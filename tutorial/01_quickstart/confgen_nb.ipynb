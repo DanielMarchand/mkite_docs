{
 "cells": [
  {
   "cell_type": "markdown",
   "id": "85a09cbf",
   "metadata": {},
   "source": [
    "## Visualizing the results from the conformer generation"
   ]
  },
  {
   "cell_type": "code",
   "execution_count": 3,
   "id": "b1ef5f67",
   "metadata": {},
   "outputs": [],
   "source": [
    "import nglview as nv\n",
    "from ase.io import write\n",
    "from mkite_core.models import JobResults, ConformerInfo"
   ]
  },
  {
   "cell_type": "code",
   "execution_count": 2,
   "id": "f1fdfea8",
   "metadata": {},
   "outputs": [
    {
     "data": {
      "application/vnd.jupyter.widget-view+json": {
       "model_id": "5aa8668f5a8a4857829c0ac3b424f038",
       "version_major": 2,
       "version_minor": 0
      },
      "text/plain": [
       "NGLWidget()"
      ]
     },
     "metadata": {},
     "output_type": "display_data"
    }
   ],
   "source": [
    "results = JobResults.from_json(\"jobresults.json\")\n",
    "conf = ConformerInfo.from_dict(results.nodes[0].chemnode)\n",
    "atoms = conf.as_ase()\n",
    "\n",
    "nv.show_ase(atoms)"
   ]
  },
  {
   "cell_type": "code",
   "execution_count": 5,
   "id": "1310f4db",
   "metadata": {},
   "outputs": [],
   "source": [
    "write(\"caffeine.xyz\", atoms, format=\"extxyz\")"
   ]
  },
  {
   "cell_type": "markdown",
   "id": "4551f9f9",
   "metadata": {},
   "source": [
    "## Running a recipe directly from a Jupyter notebook"
   ]
  },
  {
   "cell_type": "code",
   "execution_count": 3,
   "id": "76e1fd44",
   "metadata": {},
   "outputs": [],
   "source": [
    "from mkite_core.models import JobInfo\n",
    "from mkite_conformer.recipes.rdkit import ConformerGenerationRecipe"
   ]
  },
  {
   "cell_type": "code",
   "execution_count": 4,
   "id": "277e3802",
   "metadata": {},
   "outputs": [],
   "source": [
    "info = JobInfo(**{\n",
    "    \"job\": {},\n",
    "    \"recipe\": {},\n",
    "    'options': {'force_field': 'uff'},\n",
    "    'inputs': [{'smiles': 'CN1C=NC2=C1C(=O)N(C(=O)N2C)C'}],\n",
    "})"
   ]
  },
  {
   "cell_type": "code",
   "execution_count": 5,
   "id": "62d94ded",
   "metadata": {},
   "outputs": [],
   "source": [
    "recipe = ConformerGenerationRecipe(info)"
   ]
  },
  {
   "cell_type": "code",
   "execution_count": 6,
   "id": "912ddd21",
   "metadata": {},
   "outputs": [],
   "source": [
    "results = recipe.run()"
   ]
  },
  {
   "cell_type": "code",
   "execution_count": 7,
   "id": "3900b3c4",
   "metadata": {},
   "outputs": [
    {
     "data": {
      "text/plain": [
       "JobResults(job={'status': 'D', 'options': {'force_field': 'uff', 'num_conformers_returned': 20, 'num_conformers_generated': 200, 'num_attempts': 5, 'prune_threshold': 0.1, 'cluster_rmsd_tol': 2.0, 'threads': 1, 'random_seed': 8000914}}, runstats=RunStatsInfo(host='parzival', cluster='parzival', duration=1.211506, ncores=1, ngpus=0, pkgversion='mkite-conformer 0.1.0'), nodes=[NodeResults(chemnode={'species': ['C', 'N', 'C', 'C', 'C', 'O', 'N', 'C', 'C', 'O', 'N', 'C', 'N', 'C', 'H', 'H', 'H', 'H', 'H', 'H', 'H', 'H', 'H', 'H'], 'coords': [[3.3089036097238487, 0.4300581252918952, 0.04227096507353389], [2.114320240532895, -0.4058057048181734, 0.1044760629739528], [2.0647946827151054, -1.7448103466223894, 0.3111492149538143], [0.7981102747834637, -2.235578043849484, 0.3345047651229771], [0.046452559607323245, -1.1349549255889622, 0.12895883897145988], [0.8267917310225912, -0.03870264014485164, -0.00629201644822572], [0.2563195227756526, 1.2125173681740926, -0.19974421479457877], [0.9831140066166483, 2.2383898038707524, -0.30508390115200884], [-1.1160812563846518, 1.2993517640576966, -0.2630748950219259], [-1.8949813887357987, 0.1661323049367417, -0.09179611305278053], [-3.15475497153382, 0.26614058936769586, -0.08438341768290845], [-1.3118016526970244, -1.0714834238247797, 0.0785780682336036], [-2.128293505068483, -2.2751110912157992, 0.2843660630033073], [-1.759959876160006, 2.6130407589647584, -0.4298001431143002], [3.347236982207314, 0.9572912160303537, -0.9339596810920058], [4.223580973634993, -0.1916646598599766, 0.1460019756045377], [3.2883316328961856, 1.1741949271494068, 0.8658527952513924], [2.941725875533086, -2.364226689419095, 0.4490363603623757], [-1.5666421970177968, -3.195146150380918, 0.015544998102966504], [-2.436730222761618, -2.3375723704816904, 1.3491137485663498], [-3.0340481603642684, -2.2487110173944354, -0.358462288042792], [-1.9669157266155841, 3.0551301026783158, 0.5674457400376075], [-1.1170138273606558, 3.308697620848338, -1.0101949389467462], [-2.7124593073493104, 2.5228224822304472, -0.9945079869095506]], 'formula': {'name': 'H10 C8 N4 O2 +0', 'charge': 0}, 'mol': {'inchikey': 'RYYVLZVUVIJVGH-UHFFFAOYSA-N', 'smiles': 'Cn1c(=O)c2c(ncn2C)n(C)c1=O'}, 'siteprops': {}, 'attributes': {}, '@module': 'mkite.orm.mols.models', '@class': 'Conformer'}, calcnodes=[{'energy': 69.03107249508768, 'forces': None, 'attributes': {}, '@module': 'mkite.orm.calcs.models', '@class': 'EnergyForces'}])], workdir=None)"
      ]
     },
     "execution_count": 7,
     "metadata": {},
     "output_type": "execute_result"
    }
   ],
   "source": [
    "results"
   ]
  },
  {
   "cell_type": "markdown",
   "id": "767ee0db",
   "metadata": {},
   "source": [
    "## Bypassing the recipe altogether"
   ]
  },
  {
   "cell_type": "code",
   "execution_count": 8,
   "id": "1bdd64c5",
   "metadata": {},
   "outputs": [],
   "source": [
    "from mkite_conformer.runners.rdkit import ConformerGenerator"
   ]
  },
  {
   "cell_type": "code",
   "execution_count": 9,
   "id": "36a34ee8",
   "metadata": {},
   "outputs": [],
   "source": [
    "smiles = 'CN1C=NC2=C1C(=O)N(C(=O)N2C)C'\n",
    "generator = ConformerGenerator.from_smiles(smiles)"
   ]
  },
  {
   "cell_type": "code",
   "execution_count": 10,
   "id": "2d8500bd",
   "metadata": {},
   "outputs": [],
   "source": [
    "mol, energy = generator.run()"
   ]
  },
  {
   "cell_type": "code",
   "execution_count": 11,
   "id": "5323ffdb",
   "metadata": {},
   "outputs": [
    {
     "data": {
      "image/png": "[encoded data removed]",
      "text/plain": [
       "<rdkit.Chem.rdchem.Mol at 0x1053484c0>"
      ]
     },
     "execution_count": 11,
     "metadata": {},
     "output_type": "execute_result"
    }
   ],
   "source": [
    "mol"
   ]
  }
 ],
 "metadata": {
  "kernelspec": {
   "display_name": "mkite",
   "language": "python",
   "name": "mkite"
  },
  "language_info": {
   "codemirror_mode": {
    "name": "ipython",
    "version": 3
   },
   "file_extension": ".py",
   "mimetype": "text/x-python",
   "name": "python",
   "nbconvert_exporter": "python",
   "pygments_lexer": "ipython3",
   "version": "3.9.13"
  }
 },
 "nbformat": 4,
 "nbformat_minor": 5
}
